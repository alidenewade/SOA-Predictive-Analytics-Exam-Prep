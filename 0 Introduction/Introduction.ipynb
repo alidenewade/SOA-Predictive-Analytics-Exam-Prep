{
 "cells": [
  {
   "cell_type": "markdown",
   "metadata": {},
   "source": [
    "# Predictive Analytics (PA) Exam Preparation\n",
    "## Examiner: Society of Actuaries\n",
    "### from Ali Denewade\n",
    "\n",
    "<p align=\"center\">\n",
    "  <img src=\"images/soaLogo.jpg\" alt=\"SOA Logo\" width=\"200\"/>\n",
    "</p>\n",
    "\n",
    "### Introduction\n",
    "\n",
    "My name is Ali Denewade, and I'm sharing this notebook to assist those seeking additional resources or a different perspective in preparing for the Society of Actuaries' (SOA) Predictive Analytics (PA) Exam.\n",
    "\n",
    "### 💻 Resources\n",
    "\n",
    "I will be following the curriculum outlined in the SOA's April 2024 Syllabus, which includes Learning Objectives/Outcomes and Readings. While the exam is typically conducted using R, we will venture into Python for a challenging and enjoyable learning experience.\n",
    "\n",
    "<p align=\"center\">\n",
    "  <img src=\"Memes/drakePythonR.JPG\" alt=\"Drake meme comparing Python and R\" width=\"300\"/>\n",
    "</p>\n",
    "\n",
    "\n",
    "### 📚 Textbook\n",
    "\n",
    "<p align=\"center\">\n",
    "  <img src=\"images/ISLP_pic.jpg\" alt=\"ISLP Picture\" width=\"200\"/>\n",
    "</p>\n",
    "\n",
    "We will be using the \"An Introduction to Statistical Learning\" textbook, which can be found here. According to SOA, we are only going to focus on the following content:\n",
    "\n",
    "<div align=\"center\">\n",
    "\n",
    "| Chapter | Sections               | Reference     |\n",
    "|---------|------------------------|---------------|\n",
    "| 2       | 1-3                    |               |\n",
    "| 3       | 1-6                    |               |\n",
    "| 4       | 1-3, parts of 6        | Module 6, not on SRM |\n",
    "| 4       | 1-3, parts of 6        | Module 6, not on SRM |\n",
    "| 5       | 1, 3 (excluding 5.3.4) |               |\n",
    "| 6       | 1-7                    |               |\n",
    "| 5       | 1, 3 (excluding 5.3.4) |               |\n",
    "| 6       | 1-5                    |               |\n",
    "| 8       | 1-3                    |               |\n",
    "| 8       | 1-3 (excluding 8.2.4, 8.2.5, and 8.3.5) | |\n",
    "| 10      | 1-6                    |               |\n",
    "| 12      | 1-2, 4-5 (excluding 12.5.2) |           |\n",
    "\n",
    "</div>\n"
   ]
  },
  {
   "cell_type": "markdown",
   "metadata": {},
   "source": []
  }
 ],
 "metadata": {
  "language_info": {
   "name": "python"
  }
 },
 "nbformat": 4,
 "nbformat_minor": 2
}
